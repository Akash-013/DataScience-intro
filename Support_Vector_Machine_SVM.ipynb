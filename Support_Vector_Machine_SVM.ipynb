{
  "nbformat": 4,
  "nbformat_minor": 0,
  "metadata": {
    "colab": {
      "provenance": []
    },
    "kernelspec": {
      "name": "python3",
      "display_name": "Python 3"
    },
    "language_info": {
      "name": "python"
    }
  },
  "cells": [
    {
      "cell_type": "code",
      "execution_count": 1,
      "metadata": {
        "id": "VzJBeeweJEmp"
      },
      "outputs": [],
      "source": [
        "# SVM Classification\n",
        "import pandas as pd\n",
        "import numpy as np\n",
        "from sklearn.preprocessing import StandardScaler\n",
        "\n",
        "# from sklearn import svm\n",
        "from sklearn.svm import SVC\n",
        "from sklearn.model_selection import GridSearchCV,RandomizedSearchCV\n",
        "from sklearn.metrics import classification_report\n",
        "\n",
        "from sklearn.metrics import accuracy_score,confusion_matrix\n",
        "from sklearn.model_selection import train_test_split,cross_val_score"
      ]
    },
    {
      "cell_type": "code",
      "source": [
        "from google.colab import files\n",
        "uploaded = files.upload()"
      ],
      "metadata": {
        "colab": {
          "base_uri": "https://localhost:8080/",
          "height": 73
        },
        "id": "iW2vW88aLKzp",
        "outputId": "9f931c34-3b43-453d-e8d1-14ffb056e0c1"
      },
      "execution_count": 2,
      "outputs": [
        {
          "output_type": "display_data",
          "data": {
            "text/plain": [
              "<IPython.core.display.HTML object>"
            ],
            "text/html": [
              "\n",
              "     <input type=\"file\" id=\"files-60c3bb7e-3f12-4f3c-bd82-621f70ae6a95\" name=\"files[]\" multiple disabled\n",
              "        style=\"border:none\" />\n",
              "     <output id=\"result-60c3bb7e-3f12-4f3c-bd82-621f70ae6a95\">\n",
              "      Upload widget is only available when the cell has been executed in the\n",
              "      current browser session. Please rerun this cell to enable.\n",
              "      </output>\n",
              "      <script>// Copyright 2017 Google LLC\n",
              "//\n",
              "// Licensed under the Apache License, Version 2.0 (the \"License\");\n",
              "// you may not use this file except in compliance with the License.\n",
              "// You may obtain a copy of the License at\n",
              "//\n",
              "//      http://www.apache.org/licenses/LICENSE-2.0\n",
              "//\n",
              "// Unless required by applicable law or agreed to in writing, software\n",
              "// distributed under the License is distributed on an \"AS IS\" BASIS,\n",
              "// WITHOUT WARRANTIES OR CONDITIONS OF ANY KIND, either express or implied.\n",
              "// See the License for the specific language governing permissions and\n",
              "// limitations under the License.\n",
              "\n",
              "/**\n",
              " * @fileoverview Helpers for google.colab Python module.\n",
              " */\n",
              "(function(scope) {\n",
              "function span(text, styleAttributes = {}) {\n",
              "  const element = document.createElement('span');\n",
              "  element.textContent = text;\n",
              "  for (const key of Object.keys(styleAttributes)) {\n",
              "    element.style[key] = styleAttributes[key];\n",
              "  }\n",
              "  return element;\n",
              "}\n",
              "\n",
              "// Max number of bytes which will be uploaded at a time.\n",
              "const MAX_PAYLOAD_SIZE = 100 * 1024;\n",
              "\n",
              "function _uploadFiles(inputId, outputId) {\n",
              "  const steps = uploadFilesStep(inputId, outputId);\n",
              "  const outputElement = document.getElementById(outputId);\n",
              "  // Cache steps on the outputElement to make it available for the next call\n",
              "  // to uploadFilesContinue from Python.\n",
              "  outputElement.steps = steps;\n",
              "\n",
              "  return _uploadFilesContinue(outputId);\n",
              "}\n",
              "\n",
              "// This is roughly an async generator (not supported in the browser yet),\n",
              "// where there are multiple asynchronous steps and the Python side is going\n",
              "// to poll for completion of each step.\n",
              "// This uses a Promise to block the python side on completion of each step,\n",
              "// then passes the result of the previous step as the input to the next step.\n",
              "function _uploadFilesContinue(outputId) {\n",
              "  const outputElement = document.getElementById(outputId);\n",
              "  const steps = outputElement.steps;\n",
              "\n",
              "  const next = steps.next(outputElement.lastPromiseValue);\n",
              "  return Promise.resolve(next.value.promise).then((value) => {\n",
              "    // Cache the last promise value to make it available to the next\n",
              "    // step of the generator.\n",
              "    outputElement.lastPromiseValue = value;\n",
              "    return next.value.response;\n",
              "  });\n",
              "}\n",
              "\n",
              "/**\n",
              " * Generator function which is called between each async step of the upload\n",
              " * process.\n",
              " * @param {string} inputId Element ID of the input file picker element.\n",
              " * @param {string} outputId Element ID of the output display.\n",
              " * @return {!Iterable<!Object>} Iterable of next steps.\n",
              " */\n",
              "function* uploadFilesStep(inputId, outputId) {\n",
              "  const inputElement = document.getElementById(inputId);\n",
              "  inputElement.disabled = false;\n",
              "\n",
              "  const outputElement = document.getElementById(outputId);\n",
              "  outputElement.innerHTML = '';\n",
              "\n",
              "  const pickedPromise = new Promise((resolve) => {\n",
              "    inputElement.addEventListener('change', (e) => {\n",
              "      resolve(e.target.files);\n",
              "    });\n",
              "  });\n",
              "\n",
              "  const cancel = document.createElement('button');\n",
              "  inputElement.parentElement.appendChild(cancel);\n",
              "  cancel.textContent = 'Cancel upload';\n",
              "  const cancelPromise = new Promise((resolve) => {\n",
              "    cancel.onclick = () => {\n",
              "      resolve(null);\n",
              "    };\n",
              "  });\n",
              "\n",
              "  // Wait for the user to pick the files.\n",
              "  const files = yield {\n",
              "    promise: Promise.race([pickedPromise, cancelPromise]),\n",
              "    response: {\n",
              "      action: 'starting',\n",
              "    }\n",
              "  };\n",
              "\n",
              "  cancel.remove();\n",
              "\n",
              "  // Disable the input element since further picks are not allowed.\n",
              "  inputElement.disabled = true;\n",
              "\n",
              "  if (!files) {\n",
              "    return {\n",
              "      response: {\n",
              "        action: 'complete',\n",
              "      }\n",
              "    };\n",
              "  }\n",
              "\n",
              "  for (const file of files) {\n",
              "    const li = document.createElement('li');\n",
              "    li.append(span(file.name, {fontWeight: 'bold'}));\n",
              "    li.append(span(\n",
              "        `(${file.type || 'n/a'}) - ${file.size} bytes, ` +\n",
              "        `last modified: ${\n",
              "            file.lastModifiedDate ? file.lastModifiedDate.toLocaleDateString() :\n",
              "                                    'n/a'} - `));\n",
              "    const percent = span('0% done');\n",
              "    li.appendChild(percent);\n",
              "\n",
              "    outputElement.appendChild(li);\n",
              "\n",
              "    const fileDataPromise = new Promise((resolve) => {\n",
              "      const reader = new FileReader();\n",
              "      reader.onload = (e) => {\n",
              "        resolve(e.target.result);\n",
              "      };\n",
              "      reader.readAsArrayBuffer(file);\n",
              "    });\n",
              "    // Wait for the data to be ready.\n",
              "    let fileData = yield {\n",
              "      promise: fileDataPromise,\n",
              "      response: {\n",
              "        action: 'continue',\n",
              "      }\n",
              "    };\n",
              "\n",
              "    // Use a chunked sending to avoid message size limits. See b/62115660.\n",
              "    let position = 0;\n",
              "    do {\n",
              "      const length = Math.min(fileData.byteLength - position, MAX_PAYLOAD_SIZE);\n",
              "      const chunk = new Uint8Array(fileData, position, length);\n",
              "      position += length;\n",
              "\n",
              "      const base64 = btoa(String.fromCharCode.apply(null, chunk));\n",
              "      yield {\n",
              "        response: {\n",
              "          action: 'append',\n",
              "          file: file.name,\n",
              "          data: base64,\n",
              "        },\n",
              "      };\n",
              "\n",
              "      let percentDone = fileData.byteLength === 0 ?\n",
              "          100 :\n",
              "          Math.round((position / fileData.byteLength) * 100);\n",
              "      percent.textContent = `${percentDone}% done`;\n",
              "\n",
              "    } while (position < fileData.byteLength);\n",
              "  }\n",
              "\n",
              "  // All done.\n",
              "  yield {\n",
              "    response: {\n",
              "      action: 'complete',\n",
              "    }\n",
              "  };\n",
              "}\n",
              "\n",
              "scope.google = scope.google || {};\n",
              "scope.google.colab = scope.google.colab || {};\n",
              "scope.google.colab._files = {\n",
              "  _uploadFiles,\n",
              "  _uploadFilesContinue,\n",
              "};\n",
              "})(self);\n",
              "</script> "
            ]
          },
          "metadata": {}
        },
        {
          "output_type": "stream",
          "name": "stdout",
          "text": [
            "Saving pima-indians-diabetes.data (1).csv to pima-indians-diabetes.data (1).csv\n"
          ]
        }
      ]
    },
    {
      "cell_type": "code",
      "source": [
        "names = ['preg', 'plas', 'pres', 'skin', 'test', 'mass', 'pedi', 'age', 'class']\n",
        "dataframe = pd.read_csv(\"pima-indians-diabetes.data (1).csv\", names=names)\n",
        "array = dataframe.values"
      ],
      "metadata": {
        "id": "rbEaCoVrMD_j"
      },
      "execution_count": 3,
      "outputs": []
    },
    {
      "cell_type": "code",
      "source": [
        "X = array[:,0:8]\n",
        "Y = array[:,8]\n",
        "X_train, X_test, y_train, y_test = train_test_split(X,Y, test_size = 0.3)"
      ],
      "metadata": {
        "id": "EHPHQOr1MNLv"
      },
      "execution_count": 4,
      "outputs": []
    },
    {
      "cell_type": "code",
      "source": [
        "X_train.shape, y_train.shape, X_test.shape, y_test.shape"
      ],
      "metadata": {
        "colab": {
          "base_uri": "https://localhost:8080/"
        },
        "id": "9mv_mIWoMTzH",
        "outputId": "0ecaabbd-8235-4b7d-9ee8-27fab96574a4"
      },
      "execution_count": 5,
      "outputs": [
        {
          "output_type": "execute_result",
          "data": {
            "text/plain": [
              "((537, 8), (537,), (231, 8), (231,))"
            ]
          },
          "metadata": {},
          "execution_count": 5
        }
      ]
    },
    {
      "cell_type": "markdown",
      "source": [
        "Grid Search CV\n"
      ],
      "metadata": {
        "id": "Ke98pnydMxJu"
      }
    },
    {
      "cell_type": "code",
      "source": [
        "clf = SVC()\n",
        "param_grid = [{'kernel':['linear','rbf'],'gamma':[0.5,0.1,0.01],'C':[10,0.1,0.001,0.0001]}]\n",
        "gsv = RandomizedSearchCV(clf,param_grid,cv=10,verbose=300)\n",
        "gsv.fit(X_train,y_train)"
      ],
      "metadata": {
        "colab": {
          "base_uri": "https://localhost:8080/"
        },
        "id": "zCKow_lHM1Lv",
        "outputId": "ca01582b-5b65-472b-bb53-4afeaf0c4128"
      },
      "execution_count": 6,
      "outputs": [
        {
          "output_type": "stream",
          "name": "stdout",
          "text": [
            "Fitting 10 folds for each of 10 candidates, totalling 100 fits\n",
            "[CV 1/10; 1/10] START C=0.001, gamma=0.5, kernel=linear.........................\n",
            "[CV 1/10; 1/10] END C=0.001, gamma=0.5, kernel=linear;, score=0.833 total time=   0.1s\n",
            "[CV 2/10; 1/10] START C=0.001, gamma=0.5, kernel=linear.........................\n",
            "[CV 2/10; 1/10] END C=0.001, gamma=0.5, kernel=linear;, score=0.778 total time=   0.1s\n",
            "[CV 3/10; 1/10] START C=0.001, gamma=0.5, kernel=linear.........................\n",
            "[CV 3/10; 1/10] END C=0.001, gamma=0.5, kernel=linear;, score=0.704 total time=   0.0s\n",
            "[CV 4/10; 1/10] START C=0.001, gamma=0.5, kernel=linear.........................\n",
            "[CV 4/10; 1/10] END C=0.001, gamma=0.5, kernel=linear;, score=0.759 total time=   0.0s\n",
            "[CV 5/10; 1/10] START C=0.001, gamma=0.5, kernel=linear.........................\n",
            "[CV 5/10; 1/10] END C=0.001, gamma=0.5, kernel=linear;, score=0.648 total time=   0.1s\n",
            "[CV 6/10; 1/10] START C=0.001, gamma=0.5, kernel=linear.........................\n",
            "[CV 6/10; 1/10] END C=0.001, gamma=0.5, kernel=linear;, score=0.833 total time=   0.0s\n",
            "[CV 7/10; 1/10] START C=0.001, gamma=0.5, kernel=linear.........................\n",
            "[CV 7/10; 1/10] END C=0.001, gamma=0.5, kernel=linear;, score=0.741 total time=   0.0s\n",
            "[CV 8/10; 1/10] START C=0.001, gamma=0.5, kernel=linear.........................\n",
            "[CV 8/10; 1/10] END C=0.001, gamma=0.5, kernel=linear;, score=0.736 total time=   0.0s\n",
            "[CV 9/10; 1/10] START C=0.001, gamma=0.5, kernel=linear.........................\n",
            "[CV 9/10; 1/10] END C=0.001, gamma=0.5, kernel=linear;, score=0.792 total time=   0.0s\n",
            "[CV 10/10; 1/10] START C=0.001, gamma=0.5, kernel=linear........................\n",
            "[CV 10/10; 1/10] END C=0.001, gamma=0.5, kernel=linear;, score=0.698 total time=   0.0s\n",
            "[CV 1/10; 2/10] START C=0.1, gamma=0.5, kernel=rbf..............................\n",
            "[CV 1/10; 2/10] END C=0.1, gamma=0.5, kernel=rbf;, score=0.667 total time=   0.0s\n",
            "[CV 2/10; 2/10] START C=0.1, gamma=0.5, kernel=rbf..............................\n",
            "[CV 2/10; 2/10] END C=0.1, gamma=0.5, kernel=rbf;, score=0.667 total time=   0.0s\n",
            "[CV 3/10; 2/10] START C=0.1, gamma=0.5, kernel=rbf..............................\n",
            "[CV 3/10; 2/10] END C=0.1, gamma=0.5, kernel=rbf;, score=0.667 total time=   0.0s\n",
            "[CV 4/10; 2/10] START C=0.1, gamma=0.5, kernel=rbf..............................\n",
            "[CV 4/10; 2/10] END C=0.1, gamma=0.5, kernel=rbf;, score=0.667 total time=   0.0s\n",
            "[CV 5/10; 2/10] START C=0.1, gamma=0.5, kernel=rbf..............................\n",
            "[CV 5/10; 2/10] END C=0.1, gamma=0.5, kernel=rbf;, score=0.648 total time=   0.0s\n",
            "[CV 6/10; 2/10] START C=0.1, gamma=0.5, kernel=rbf..............................\n",
            "[CV 6/10; 2/10] END C=0.1, gamma=0.5, kernel=rbf;, score=0.648 total time=   0.0s\n",
            "[CV 7/10; 2/10] START C=0.1, gamma=0.5, kernel=rbf..............................\n",
            "[CV 7/10; 2/10] END C=0.1, gamma=0.5, kernel=rbf;, score=0.648 total time=   0.1s\n",
            "[CV 8/10; 2/10] START C=0.1, gamma=0.5, kernel=rbf..............................\n",
            "[CV 8/10; 2/10] END C=0.1, gamma=0.5, kernel=rbf;, score=0.660 total time=   0.0s\n",
            "[CV 9/10; 2/10] START C=0.1, gamma=0.5, kernel=rbf..............................\n",
            "[CV 9/10; 2/10] END C=0.1, gamma=0.5, kernel=rbf;, score=0.660 total time=   0.0s\n",
            "[CV 10/10; 2/10] START C=0.1, gamma=0.5, kernel=rbf.............................\n",
            "[CV 10/10; 2/10] END C=0.1, gamma=0.5, kernel=rbf;, score=0.660 total time=   0.0s\n",
            "[CV 1/10; 3/10] START C=10, gamma=0.1, kernel=linear............................\n",
            "[CV 1/10; 3/10] END C=10, gamma=0.1, kernel=linear;, score=0.833 total time=  32.3s\n",
            "[CV 2/10; 3/10] START C=10, gamma=0.1, kernel=linear............................\n",
            "[CV 2/10; 3/10] END C=10, gamma=0.1, kernel=linear;, score=0.778 total time=  42.4s\n",
            "[CV 3/10; 3/10] START C=10, gamma=0.1, kernel=linear............................\n",
            "[CV 3/10; 3/10] END C=10, gamma=0.1, kernel=linear;, score=0.704 total time=  25.6s\n",
            "[CV 4/10; 3/10] START C=10, gamma=0.1, kernel=linear............................\n",
            "[CV 4/10; 3/10] END C=10, gamma=0.1, kernel=linear;, score=0.778 total time=  33.6s\n",
            "[CV 5/10; 3/10] START C=10, gamma=0.1, kernel=linear............................\n",
            "[CV 5/10; 3/10] END C=10, gamma=0.1, kernel=linear;, score=0.648 total time=  37.4s\n",
            "[CV 6/10; 3/10] START C=10, gamma=0.1, kernel=linear............................\n",
            "[CV 6/10; 3/10] END C=10, gamma=0.1, kernel=linear;, score=0.815 total time=  20.8s\n",
            "[CV 7/10; 3/10] START C=10, gamma=0.1, kernel=linear............................\n",
            "[CV 7/10; 3/10] END C=10, gamma=0.1, kernel=linear;, score=0.741 total time=  33.0s\n",
            "[CV 8/10; 3/10] START C=10, gamma=0.1, kernel=linear............................\n",
            "[CV 8/10; 3/10] END C=10, gamma=0.1, kernel=linear;, score=0.792 total time=  34.3s\n",
            "[CV 9/10; 3/10] START C=10, gamma=0.1, kernel=linear............................\n",
            "[CV 9/10; 3/10] END C=10, gamma=0.1, kernel=linear;, score=0.811 total time=  19.5s\n",
            "[CV 10/10; 3/10] START C=10, gamma=0.1, kernel=linear...........................\n",
            "[CV 10/10; 3/10] END C=10, gamma=0.1, kernel=linear;, score=0.717 total time=  24.1s\n",
            "[CV 1/10; 4/10] START C=0.1, gamma=0.1, kernel=linear...........................\n",
            "[CV 1/10; 4/10] END C=0.1, gamma=0.1, kernel=linear;, score=0.833 total time=   0.4s\n",
            "[CV 2/10; 4/10] START C=0.1, gamma=0.1, kernel=linear...........................\n",
            "[CV 2/10; 4/10] END C=0.1, gamma=0.1, kernel=linear;, score=0.778 total time=   0.3s\n",
            "[CV 3/10; 4/10] START C=0.1, gamma=0.1, kernel=linear...........................\n",
            "[CV 3/10; 4/10] END C=0.1, gamma=0.1, kernel=linear;, score=0.722 total time=   0.3s\n",
            "[CV 4/10; 4/10] START C=0.1, gamma=0.1, kernel=linear...........................\n",
            "[CV 4/10; 4/10] END C=0.1, gamma=0.1, kernel=linear;, score=0.741 total time=   0.5s\n",
            "[CV 5/10; 4/10] START C=0.1, gamma=0.1, kernel=linear...........................\n",
            "[CV 5/10; 4/10] END C=0.1, gamma=0.1, kernel=linear;, score=0.685 total time=   0.7s\n",
            "[CV 6/10; 4/10] START C=0.1, gamma=0.1, kernel=linear...........................\n",
            "[CV 6/10; 4/10] END C=0.1, gamma=0.1, kernel=linear;, score=0.815 total time=   0.2s\n",
            "[CV 7/10; 4/10] START C=0.1, gamma=0.1, kernel=linear...........................\n",
            "[CV 7/10; 4/10] END C=0.1, gamma=0.1, kernel=linear;, score=0.741 total time=   0.3s\n",
            "[CV 8/10; 4/10] START C=0.1, gamma=0.1, kernel=linear...........................\n",
            "[CV 8/10; 4/10] END C=0.1, gamma=0.1, kernel=linear;, score=0.755 total time=   0.3s\n",
            "[CV 9/10; 4/10] START C=0.1, gamma=0.1, kernel=linear...........................\n",
            "[CV 9/10; 4/10] END C=0.1, gamma=0.1, kernel=linear;, score=0.792 total time=   0.4s\n",
            "[CV 10/10; 4/10] START C=0.1, gamma=0.1, kernel=linear..........................\n",
            "[CV 10/10; 4/10] END C=0.1, gamma=0.1, kernel=linear;, score=0.736 total time=   0.4s\n",
            "[CV 1/10; 5/10] START C=0.001, gamma=0.01, kernel=linear........................\n",
            "[CV 1/10; 5/10] END C=0.001, gamma=0.01, kernel=linear;, score=0.833 total time=   0.0s\n",
            "[CV 2/10; 5/10] START C=0.001, gamma=0.01, kernel=linear........................\n",
            "[CV 2/10; 5/10] END C=0.001, gamma=0.01, kernel=linear;, score=0.778 total time=   0.0s\n",
            "[CV 3/10; 5/10] START C=0.001, gamma=0.01, kernel=linear........................\n",
            "[CV 3/10; 5/10] END C=0.001, gamma=0.01, kernel=linear;, score=0.704 total time=   0.0s\n",
            "[CV 4/10; 5/10] START C=0.001, gamma=0.01, kernel=linear........................\n",
            "[CV 4/10; 5/10] END C=0.001, gamma=0.01, kernel=linear;, score=0.759 total time=   0.0s\n",
            "[CV 5/10; 5/10] START C=0.001, gamma=0.01, kernel=linear........................\n",
            "[CV 5/10; 5/10] END C=0.001, gamma=0.01, kernel=linear;, score=0.648 total time=   0.0s\n",
            "[CV 6/10; 5/10] START C=0.001, gamma=0.01, kernel=linear........................\n",
            "[CV 6/10; 5/10] END C=0.001, gamma=0.01, kernel=linear;, score=0.833 total time=   0.0s\n",
            "[CV 7/10; 5/10] START C=0.001, gamma=0.01, kernel=linear........................\n",
            "[CV 7/10; 5/10] END C=0.001, gamma=0.01, kernel=linear;, score=0.741 total time=   0.0s\n",
            "[CV 8/10; 5/10] START C=0.001, gamma=0.01, kernel=linear........................\n",
            "[CV 8/10; 5/10] END C=0.001, gamma=0.01, kernel=linear;, score=0.736 total time=   0.0s\n",
            "[CV 9/10; 5/10] START C=0.001, gamma=0.01, kernel=linear........................\n",
            "[CV 9/10; 5/10] END C=0.001, gamma=0.01, kernel=linear;, score=0.792 total time=   0.0s\n",
            "[CV 10/10; 5/10] START C=0.001, gamma=0.01, kernel=linear.......................\n",
            "[CV 10/10; 5/10] END C=0.001, gamma=0.01, kernel=linear;, score=0.698 total time=   0.0s\n",
            "[CV 1/10; 6/10] START C=10, gamma=0.5, kernel=linear............................\n",
            "[CV 1/10; 6/10] END C=10, gamma=0.5, kernel=linear;, score=0.833 total time=  29.0s\n",
            "[CV 2/10; 6/10] START C=10, gamma=0.5, kernel=linear............................\n",
            "[CV 2/10; 6/10] END C=10, gamma=0.5, kernel=linear;, score=0.778 total time=  40.7s\n",
            "[CV 3/10; 6/10] START C=10, gamma=0.5, kernel=linear............................\n",
            "[CV 3/10; 6/10] END C=10, gamma=0.5, kernel=linear;, score=0.704 total time=  25.3s\n",
            "[CV 4/10; 6/10] START C=10, gamma=0.5, kernel=linear............................\n",
            "[CV 4/10; 6/10] END C=10, gamma=0.5, kernel=linear;, score=0.778 total time=  34.1s\n",
            "[CV 5/10; 6/10] START C=10, gamma=0.5, kernel=linear............................\n",
            "[CV 5/10; 6/10] END C=10, gamma=0.5, kernel=linear;, score=0.648 total time=  37.3s\n",
            "[CV 6/10; 6/10] START C=10, gamma=0.5, kernel=linear............................\n",
            "[CV 6/10; 6/10] END C=10, gamma=0.5, kernel=linear;, score=0.815 total time=  20.8s\n",
            "[CV 7/10; 6/10] START C=10, gamma=0.5, kernel=linear............................\n",
            "[CV 7/10; 6/10] END C=10, gamma=0.5, kernel=linear;, score=0.741 total time=  32.9s\n",
            "[CV 8/10; 6/10] START C=10, gamma=0.5, kernel=linear............................\n",
            "[CV 8/10; 6/10] END C=10, gamma=0.5, kernel=linear;, score=0.792 total time=  33.1s\n",
            "[CV 9/10; 6/10] START C=10, gamma=0.5, kernel=linear............................\n",
            "[CV 9/10; 6/10] END C=10, gamma=0.5, kernel=linear;, score=0.811 total time=  19.4s\n",
            "[CV 10/10; 6/10] START C=10, gamma=0.5, kernel=linear...........................\n",
            "[CV 10/10; 6/10] END C=10, gamma=0.5, kernel=linear;, score=0.717 total time=  24.1s\n",
            "[CV 1/10; 7/10] START C=0.1, gamma=0.01, kernel=rbf.............................\n",
            "[CV 1/10; 7/10] END C=0.1, gamma=0.01, kernel=rbf;, score=0.667 total time=   0.0s\n",
            "[CV 2/10; 7/10] START C=0.1, gamma=0.01, kernel=rbf.............................\n",
            "[CV 2/10; 7/10] END C=0.1, gamma=0.01, kernel=rbf;, score=0.667 total time=   0.0s\n",
            "[CV 3/10; 7/10] START C=0.1, gamma=0.01, kernel=rbf.............................\n",
            "[CV 3/10; 7/10] END C=0.1, gamma=0.01, kernel=rbf;, score=0.667 total time=   0.0s\n",
            "[CV 4/10; 7/10] START C=0.1, gamma=0.01, kernel=rbf.............................\n",
            "[CV 4/10; 7/10] END C=0.1, gamma=0.01, kernel=rbf;, score=0.667 total time=   0.0s\n",
            "[CV 5/10; 7/10] START C=0.1, gamma=0.01, kernel=rbf.............................\n",
            "[CV 5/10; 7/10] END C=0.1, gamma=0.01, kernel=rbf;, score=0.648 total time=   0.0s\n",
            "[CV 6/10; 7/10] START C=0.1, gamma=0.01, kernel=rbf.............................\n",
            "[CV 6/10; 7/10] END C=0.1, gamma=0.01, kernel=rbf;, score=0.648 total time=   0.0s\n",
            "[CV 7/10; 7/10] START C=0.1, gamma=0.01, kernel=rbf.............................\n",
            "[CV 7/10; 7/10] END C=0.1, gamma=0.01, kernel=rbf;, score=0.648 total time=   0.0s\n",
            "[CV 8/10; 7/10] START C=0.1, gamma=0.01, kernel=rbf.............................\n",
            "[CV 8/10; 7/10] END C=0.1, gamma=0.01, kernel=rbf;, score=0.660 total time=   0.0s\n",
            "[CV 9/10; 7/10] START C=0.1, gamma=0.01, kernel=rbf.............................\n",
            "[CV 9/10; 7/10] END C=0.1, gamma=0.01, kernel=rbf;, score=0.660 total time=   0.0s\n",
            "[CV 10/10; 7/10] START C=0.1, gamma=0.01, kernel=rbf............................\n",
            "[CV 10/10; 7/10] END C=0.1, gamma=0.01, kernel=rbf;, score=0.660 total time=   0.0s\n",
            "[CV 1/10; 8/10] START C=10, gamma=0.01, kernel=linear...........................\n",
            "[CV 1/10; 8/10] END C=10, gamma=0.01, kernel=linear;, score=0.833 total time=  30.0s\n",
            "[CV 2/10; 8/10] START C=10, gamma=0.01, kernel=linear...........................\n",
            "[CV 2/10; 8/10] END C=10, gamma=0.01, kernel=linear;, score=0.778 total time=  40.7s\n",
            "[CV 3/10; 8/10] START C=10, gamma=0.01, kernel=linear...........................\n",
            "[CV 3/10; 8/10] END C=10, gamma=0.01, kernel=linear;, score=0.704 total time=  25.6s\n",
            "[CV 4/10; 8/10] START C=10, gamma=0.01, kernel=linear...........................\n",
            "[CV 4/10; 8/10] END C=10, gamma=0.01, kernel=linear;, score=0.778 total time=  32.8s\n",
            "[CV 5/10; 8/10] START C=10, gamma=0.01, kernel=linear...........................\n",
            "[CV 5/10; 8/10] END C=10, gamma=0.01, kernel=linear;, score=0.648 total time=  37.9s\n",
            "[CV 6/10; 8/10] START C=10, gamma=0.01, kernel=linear...........................\n",
            "[CV 6/10; 8/10] END C=10, gamma=0.01, kernel=linear;, score=0.815 total time=  20.6s\n",
            "[CV 7/10; 8/10] START C=10, gamma=0.01, kernel=linear...........................\n",
            "[CV 7/10; 8/10] END C=10, gamma=0.01, kernel=linear;, score=0.741 total time=  34.2s\n",
            "[CV 8/10; 8/10] START C=10, gamma=0.01, kernel=linear...........................\n",
            "[CV 8/10; 8/10] END C=10, gamma=0.01, kernel=linear;, score=0.792 total time=  33.3s\n",
            "[CV 9/10; 8/10] START C=10, gamma=0.01, kernel=linear...........................\n",
            "[CV 9/10; 8/10] END C=10, gamma=0.01, kernel=linear;, score=0.811 total time=  19.4s\n",
            "[CV 10/10; 8/10] START C=10, gamma=0.01, kernel=linear..........................\n",
            "[CV 10/10; 8/10] END C=10, gamma=0.01, kernel=linear;, score=0.717 total time=  24.3s\n",
            "[CV 1/10; 9/10] START C=0.1, gamma=0.5, kernel=linear...........................\n",
            "[CV 1/10; 9/10] END C=0.1, gamma=0.5, kernel=linear;, score=0.833 total time=   0.4s\n",
            "[CV 2/10; 9/10] START C=0.1, gamma=0.5, kernel=linear...........................\n",
            "[CV 2/10; 9/10] END C=0.1, gamma=0.5, kernel=linear;, score=0.778 total time=   0.3s\n",
            "[CV 3/10; 9/10] START C=0.1, gamma=0.5, kernel=linear...........................\n",
            "[CV 3/10; 9/10] END C=0.1, gamma=0.5, kernel=linear;, score=0.722 total time=   0.4s\n",
            "[CV 4/10; 9/10] START C=0.1, gamma=0.5, kernel=linear...........................\n",
            "[CV 4/10; 9/10] END C=0.1, gamma=0.5, kernel=linear;, score=0.741 total time=   0.5s\n",
            "[CV 5/10; 9/10] START C=0.1, gamma=0.5, kernel=linear...........................\n",
            "[CV 5/10; 9/10] END C=0.1, gamma=0.5, kernel=linear;, score=0.685 total time=   0.7s\n",
            "[CV 6/10; 9/10] START C=0.1, gamma=0.5, kernel=linear...........................\n",
            "[CV 6/10; 9/10] END C=0.1, gamma=0.5, kernel=linear;, score=0.815 total time=   0.2s\n",
            "[CV 7/10; 9/10] START C=0.1, gamma=0.5, kernel=linear...........................\n",
            "[CV 7/10; 9/10] END C=0.1, gamma=0.5, kernel=linear;, score=0.741 total time=   0.3s\n",
            "[CV 8/10; 9/10] START C=0.1, gamma=0.5, kernel=linear...........................\n",
            "[CV 8/10; 9/10] END C=0.1, gamma=0.5, kernel=linear;, score=0.755 total time=   0.3s\n",
            "[CV 9/10; 9/10] START C=0.1, gamma=0.5, kernel=linear...........................\n",
            "[CV 9/10; 9/10] END C=0.1, gamma=0.5, kernel=linear;, score=0.792 total time=   0.4s\n",
            "[CV 10/10; 9/10] START C=0.1, gamma=0.5, kernel=linear..........................\n",
            "[CV 10/10; 9/10] END C=0.1, gamma=0.5, kernel=linear;, score=0.736 total time=   0.4s\n",
            "[CV 1/10; 10/10] START C=10, gamma=0.01, kernel=rbf.............................\n",
            "[CV 1/10; 10/10] END C=10, gamma=0.01, kernel=rbf;, score=0.648 total time=   0.0s\n",
            "[CV 2/10; 10/10] START C=10, gamma=0.01, kernel=rbf.............................\n",
            "[CV 2/10; 10/10] END C=10, gamma=0.01, kernel=rbf;, score=0.685 total time=   0.0s\n",
            "[CV 3/10; 10/10] START C=10, gamma=0.01, kernel=rbf.............................\n",
            "[CV 3/10; 10/10] END C=10, gamma=0.01, kernel=rbf;, score=0.685 total time=   0.0s\n",
            "[CV 4/10; 10/10] START C=10, gamma=0.01, kernel=rbf.............................\n",
            "[CV 4/10; 10/10] END C=10, gamma=0.01, kernel=rbf;, score=0.648 total time=   0.0s\n",
            "[CV 5/10; 10/10] START C=10, gamma=0.01, kernel=rbf.............................\n",
            "[CV 5/10; 10/10] END C=10, gamma=0.01, kernel=rbf;, score=0.556 total time=   0.0s\n",
            "[CV 6/10; 10/10] START C=10, gamma=0.01, kernel=rbf.............................\n",
            "[CV 6/10; 10/10] END C=10, gamma=0.01, kernel=rbf;, score=0.611 total time=   0.0s\n",
            "[CV 7/10; 10/10] START C=10, gamma=0.01, kernel=rbf.............................\n",
            "[CV 7/10; 10/10] END C=10, gamma=0.01, kernel=rbf;, score=0.611 total time=   0.0s\n",
            "[CV 8/10; 10/10] START C=10, gamma=0.01, kernel=rbf.............................\n",
            "[CV 8/10; 10/10] END C=10, gamma=0.01, kernel=rbf;, score=0.717 total time=   0.0s\n",
            "[CV 9/10; 10/10] START C=10, gamma=0.01, kernel=rbf.............................\n",
            "[CV 9/10; 10/10] END C=10, gamma=0.01, kernel=rbf;, score=0.642 total time=   0.0s\n",
            "[CV 10/10; 10/10] START C=10, gamma=0.01, kernel=rbf............................\n",
            "[CV 10/10; 10/10] END C=10, gamma=0.01, kernel=rbf;, score=0.604 total time=   0.0s\n"
          ]
        },
        {
          "output_type": "execute_result",
          "data": {
            "text/plain": [
              "RandomizedSearchCV(cv=10, estimator=SVC(),\n",
              "                   param_distributions=[{'C': [10, 0.1, 0.001, 0.0001],\n",
              "                                         'gamma': [0.5, 0.1, 0.01],\n",
              "                                         'kernel': ['linear', 'rbf']}],\n",
              "                   verbose=300)"
            ]
          },
          "metadata": {},
          "execution_count": 6
        }
      ]
    },
    {
      "cell_type": "code",
      "source": [
        "gsv.best_params_ , gsv.best_score_"
      ],
      "metadata": {
        "colab": {
          "base_uri": "https://localhost:8080/"
        },
        "id": "j_Upd4v3OM4q",
        "outputId": "4b11b954-2685-4d09-c761-b3c5a9c08194"
      },
      "execution_count": 7,
      "outputs": [
        {
          "output_type": "execute_result",
          "data": {
            "text/plain": [
              "({'kernel': 'linear', 'gamma': 0.1, 'C': 10}, 0.7617051013277428)"
            ]
          },
          "metadata": {},
          "execution_count": 7
        }
      ]
    },
    {
      "cell_type": "code",
      "source": [
        "clf = SVC(kernel='linear',C=10)\n",
        "clf.fit(X_train, y_train)\n",
        "y_pred = clf.predict(X_test)\n",
        "acc = accuracy_score(y_test, y_pred) * 100\n",
        "print(\"Accuracy =\", acc)\n",
        "confusion_matrix(y_test, y_pred)"
      ],
      "metadata": {
        "colab": {
          "base_uri": "https://localhost:8080/"
        },
        "id": "Or4vZ-K0Ox3z",
        "outputId": "42af9082-e561-44a5-c01a-8b84e1a48f24"
      },
      "execution_count": 8,
      "outputs": [
        {
          "output_type": "stream",
          "name": "stdout",
          "text": [
            "Accuracy = 77.92207792207793\n"
          ]
        },
        {
          "output_type": "execute_result",
          "data": {
            "text/plain": [
              "array([[131,  15],\n",
              "       [ 36,  49]])"
            ]
          },
          "metadata": {},
          "execution_count": 8
        }
      ]
    },
    {
      "cell_type": "code",
      "source": [
        "y_pred"
      ],
      "metadata": {
        "colab": {
          "base_uri": "https://localhost:8080/"
        },
        "id": "4FjKqYvKPWaV",
        "outputId": "8b79bcf2-ea6d-4fe3-f843-b0a0eb675615"
      },
      "execution_count": 9,
      "outputs": [
        {
          "output_type": "execute_result",
          "data": {
            "text/plain": [
              "array([1., 0., 0., 0., 0., 0., 0., 0., 0., 1., 0., 1., 0., 1., 0., 0., 1.,\n",
              "       0., 1., 0., 1., 1., 0., 1., 0., 0., 1., 0., 1., 1., 0., 0., 1., 1.,\n",
              "       0., 0., 0., 0., 1., 0., 1., 0., 0., 1., 0., 1., 1., 1., 0., 0., 1.,\n",
              "       1., 1., 1., 0., 0., 0., 0., 0., 0., 0., 1., 1., 0., 0., 0., 0., 0.,\n",
              "       0., 1., 0., 0., 0., 0., 0., 1., 1., 0., 1., 0., 0., 0., 0., 0., 0.,\n",
              "       0., 0., 0., 0., 0., 0., 1., 0., 1., 0., 0., 1., 0., 0., 0., 0., 0.,\n",
              "       0., 0., 1., 0., 1., 0., 0., 0., 0., 0., 0., 0., 0., 1., 1., 1., 1.,\n",
              "       0., 1., 0., 1., 0., 1., 1., 0., 0., 0., 0., 0., 0., 0., 0., 0., 0.,\n",
              "       0., 0., 0., 0., 0., 0., 0., 1., 1., 0., 0., 0., 0., 0., 1., 1., 0.,\n",
              "       0., 1., 0., 0., 0., 0., 0., 0., 1., 0., 0., 0., 1., 0., 0., 0., 0.,\n",
              "       0., 0., 1., 0., 0., 0., 0., 0., 0., 0., 0., 0., 0., 0., 1., 0., 0.,\n",
              "       0., 1., 1., 0., 0., 1., 0., 1., 0., 0., 0., 0., 0., 0., 0., 1., 0.,\n",
              "       0., 0., 0., 0., 0., 0., 0., 1., 0., 0., 0., 0., 1., 1., 1., 1., 0.,\n",
              "       1., 0., 0., 0., 1., 0., 0., 0., 0., 0.])"
            ]
          },
          "metadata": {},
          "execution_count": 9
        }
      ]
    }
  ]
}