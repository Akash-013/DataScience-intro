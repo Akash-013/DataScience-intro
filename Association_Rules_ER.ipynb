{
  "nbformat": 4,
  "nbformat_minor": 0,
  "metadata": {
    "kernelspec": {
      "display_name": "Python 3",
      "language": "python",
      "name": "python3"
    },
    "language_info": {
      "codemirror_mode": {
        "name": "ipython",
        "version": 3
      },
      "file_extension": ".py",
      "mimetype": "text/x-python",
      "name": "python",
      "nbconvert_exporter": "python",
      "pygments_lexer": "ipython3",
      "version": "3.7.4"
    },
    "colab": {
      "provenance": []
    }
  },
  "cells": [
    {
      "cell_type": "markdown",
      "metadata": {
        "id": "fpP7kKdGbJoN"
      },
      "source": [
        "# Import libraries "
      ]
    },
    {
      "cell_type": "code",
      "source": [
        "# Uncomment the below line and Install 'mlxtend' Library if not installed already\n",
        "!pip install mlxtend"
      ],
      "metadata": {
        "id": "OTWmGNMbsl3b"
      },
      "execution_count": null,
      "outputs": []
    },
    {
      "cell_type": "code",
      "source": [
        "import mlxtend"
      ],
      "metadata": {
        "id": "arJ7mhtwCtVl"
      },
      "execution_count": null,
      "outputs": []
    },
    {
      "cell_type": "code",
      "metadata": {
        "id": "fl6W-NcMbJoX"
      },
      "source": [
        "import pandas as pd\n",
        "from mlxtend.frequent_patterns import apriori,association_rules\n",
        "from mlxtend.preprocessing import TransactionEncoder\n",
        "\n",
        "import matplotlib.pyplot as plt"
      ],
      "execution_count": null,
      "outputs": []
    },
    {
      "cell_type": "code",
      "metadata": {
        "id": "qeHH6kPubJoY"
      },
      "source": [
        "titanic = pd.read_csv(\"Titanic(ap).csv\")\n",
        "titanic"
      ],
      "execution_count": null,
      "outputs": []
    },
    {
      "cell_type": "code",
      "source": [
        "titanic['Class'].value_counts()"
      ],
      "metadata": {
        "id": "2QhtSSJkmjMB"
      },
      "execution_count": null,
      "outputs": []
    },
    {
      "cell_type": "markdown",
      "metadata": {
        "id": "40y3B1A0bJoY"
      },
      "source": [
        "# Pre-Processing\n",
        "As the data is not in transaction formation \n",
        "We are using transaction Encoder"
      ]
    },
    {
      "cell_type": "code",
      "metadata": {
        "id": "pZ067yRcbJoZ"
      },
      "source": [
        "df=pd.get_dummies(titanic)\n",
        "df.head(),df.tail()"
      ],
      "execution_count": null,
      "outputs": []
    },
    {
      "cell_type": "markdown",
      "metadata": {
        "id": "JxZKcTqAbJoZ"
      },
      "source": [
        "# Apriori Algorithm "
      ]
    },
    {
      "cell_type": "code",
      "metadata": {
        "id": "3s6vFM_nbJoa"
      },
      "source": [
        "frequent_itemsets = apriori(df, min_support=0.1, use_colnames=True)\n",
        "frequent_itemsets"
      ],
      "execution_count": null,
      "outputs": []
    },
    {
      "cell_type": "code",
      "metadata": {
        "id": "nbaeotAcbJoa"
      },
      "source": [
        "rules = association_rules(frequent_itemsets, metric=\"lift\", min_threshold=1.0)\n",
        "rules\n",
        "rules.sort_values('lift',ascending = False)"
      ],
      "execution_count": null,
      "outputs": []
    },
    {
      "cell_type": "code",
      "metadata": {
        "id": "PiJ0wRgmbJob"
      },
      "source": [
        "rules.sort_values('lift',ascending = False)[0:20]"
      ],
      "execution_count": null,
      "outputs": []
    },
    {
      "cell_type": "code",
      "metadata": {
        "id": "O6wkD386kdFQ"
      },
      "source": [
        "import matplotlib.pyplot as plt\n",
        "rules[['support','confidence','lift']].hist(figsize=(15,7))\n",
        "plt.show()"
      ],
      "execution_count": null,
      "outputs": []
    },
    {
      "cell_type": "code",
      "metadata": {
        "id": "KA1Skq_Zi366"
      },
      "source": [
        "import matplotlib.pyplot as plt\n",
        "\n",
        "plt.scatter(rules['support'], rules['confidence'])\n",
        "plt.show()"
      ],
      "execution_count": null,
      "outputs": []
    },
    {
      "cell_type": "code",
      "metadata": {
        "id": "QZr2BiBcjQGH"
      },
      "source": [
        "import seaborn as sns\n",
        "\n",
        "sns.scatterplot('support', 'confidence', data=rules,)\n",
        "\n",
        "plt.show()"
      ],
      "execution_count": null,
      "outputs": []
    }
  ]
}